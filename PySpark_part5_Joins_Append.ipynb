{
  "nbformat": 4,
  "nbformat_minor": 0,
  "metadata": {
    "colab": {
      "provenance": []
    },
    "kernelspec": {
      "name": "python3",
      "display_name": "Python 3"
    },
    "language_info": {
      "name": "python"
    }
  },
  "cells": [
    {
      "cell_type": "code",
      "execution_count": 1,
      "metadata": {
        "id": "9mJI9SlFtBpK"
      },
      "outputs": [],
      "source": [
        "# !apt-get update\n",
        "# !apt-get install openjdk-8-jdk-headless -qq > /dev/null\n",
        "# !wget -q http://archive.apache.org/dist/spark/spark-2.3.1/spark-2.3.1-bin-hadoop2.7.tgz\n",
        "# !tar xf spark-2.3.1-bin-hadoop2.7.tgz\n",
        "# !pip install -q findspark"
      ]
    },
    {
      "cell_type": "code",
      "source": [
        "import os\n",
        "os.environ[\"JAVA_HOME\"] = \"/usr/lib/jvm/java-8-openjdk-amd64\"\n",
        "os.environ[\"SPARK_HOME\"] = \"/content/spark-2.3.1-bin-hadoop2.7\"\n",
        "\n",
        "!ls\n",
        "\n",
        "import findspark\n",
        "findspark.init()\n",
        "\n",
        "import pyspark\n",
        "from pyspark.sql import SparkSession\n",
        "spark = SparkSession.builder.appName(\"ReadwriteVal\").getOrCreate() \n",
        "spark"
      ],
      "metadata": {
        "colab": {
          "base_uri": "https://localhost:8080/",
          "height": 295
        },
        "id": "iAx1FN0NtKAa",
        "outputId": "71807df3-c87a-4772-e95b-74e4f2d355f4"
      },
      "execution_count": 2,
      "outputs": [
        {
          "output_type": "stream",
          "name": "stdout",
          "text": [
            "archive_shutil.zip\t       spark-warehouse\n",
            "sample_data\t\t       uw-madison-courses\n",
            "spark-2.3.1-bin-hadoop2.7      uw-madison-courses.tar.xz\n",
            "spark-2.3.1-bin-hadoop2.7.tgz  uw-madison-courses.zip\n"
          ]
        },
        {
          "output_type": "execute_result",
          "data": {
            "text/plain": [
              "<pyspark.sql.session.SparkSession at 0x7f11227a26d0>"
            ],
            "text/html": [
              "\n",
              "            <div>\n",
              "                <p><b>SparkSession - in-memory</b></p>\n",
              "                \n",
              "        <div>\n",
              "            <p><b>SparkContext</b></p>\n",
              "\n",
              "            <p><a href=\"http://148f4422d11e:4040\">Spark UI</a></p>\n",
              "\n",
              "            <dl>\n",
              "              <dt>Version</dt>\n",
              "                <dd><code>v2.3.1</code></dd>\n",
              "              <dt>Master</dt>\n",
              "                <dd><code>local[*]</code></dd>\n",
              "              <dt>AppName</dt>\n",
              "                <dd><code>ReadwriteVal</code></dd>\n",
              "            </dl>\n",
              "        </div>\n",
              "        \n",
              "            </div>\n",
              "        "
            ]
          },
          "metadata": {},
          "execution_count": 2
        }
      ]
    },
    {
      "cell_type": "code",
      "source": [
        "cores = spark._jsc.sc().getExecutorMemoryStatus().keySet().size()\n",
        "cores"
      ],
      "metadata": {
        "colab": {
          "base_uri": "https://localhost:8080/"
        },
        "id": "TemHoHP9tQIo",
        "outputId": "c3d98960-85d7-4abe-df62-9361bed283ed"
      },
      "execution_count": 3,
      "outputs": [
        {
          "output_type": "execute_result",
          "data": {
            "text/plain": [
              "1"
            ]
          },
          "metadata": {},
          "execution_count": 3
        }
      ]
    },
    {
      "cell_type": "code",
      "source": [
        "import shutil\n",
        "\n",
        "shutil.make_archive('archive_shutil', format='zip', root_dir='uw-madison-courses')"
      ],
      "metadata": {
        "colab": {
          "base_uri": "https://localhost:8080/",
          "height": 36
        },
        "id": "GXl9Ksmloigr",
        "outputId": "09c28163-781c-40a0-a374-fbea4c9b1a4d"
      },
      "execution_count": 4,
      "outputs": [
        {
          "output_type": "execute_result",
          "data": {
            "text/plain": [
              "'/content/archive_shutil.zip'"
            ],
            "application/vnd.google.colaboratory.intrinsic+json": {
              "type": "string"
            }
          },
          "metadata": {},
          "execution_count": 4
        }
      ]
    },
    {
      "cell_type": "code",
      "source": [
        "import os\n",
        "\n",
        "path = \"uw-madison-courses/\"\n",
        "\n",
        "df_list = []\n",
        "for filename in os.listdir(path):\n",
        "    if filename.endswith(\".csv\"):\n",
        "        filename_list = filename.split(\".\") #separate path from .csv\n",
        "        df_name = filename_list[0]\n",
        "        df = spark.read.csv(path+filename,inferSchema=True,header=True)\n",
        "        df.name = df_name\n",
        "        df_list.append(df_name)\n",
        "        exec(df_name + ' = df')\n",
        "        \n",
        "# QA\n",
        "print(\"Full list of dfs:\")\n",
        "print(df_list)"
      ],
      "metadata": {
        "id": "UWfZL0GFusEW",
        "colab": {
          "base_uri": "https://localhost:8080/"
        },
        "outputId": "8f077b16-fb7a-4659-915e-3f1e4e247d44"
      },
      "execution_count": 5,
      "outputs": [
        {
          "output_type": "stream",
          "name": "stdout",
          "text": [
            "Full list of dfs:\n",
            "['subjects', 'schedules', 'courses', 'subject_memberships', 'rooms', 'sections']\n"
          ]
        }
      ]
    },
    {
      "cell_type": "code",
      "source": [
        "subjects.show(4,False)"
      ],
      "metadata": {
        "colab": {
          "base_uri": "https://localhost:8080/"
        },
        "id": "4H7V-KKYvUbL",
        "outputId": "f77d2699-cebf-417b-8bb4-1d3ae85c852d"
      },
      "execution_count": 6,
      "outputs": [
        {
          "output_type": "stream",
          "name": "stdout",
          "text": [
            "+----+------------------------------------+------------+\n",
            "|code|name                                |abbreviation|\n",
            "+----+------------------------------------+------------+\n",
            "|908 |Soil Science                        |SOIL SCI    |\n",
            "|350 |ENGLISH                             |ENGLISH     |\n",
            "|351 |English as a Second Language        |ESL         |\n",
            "|230 |Human Development and Family Studies|HDFS        |\n",
            "+----+------------------------------------+------------+\n",
            "only showing top 4 rows\n",
            "\n"
          ]
        }
      ]
    },
    {
      "cell_type": "code",
      "source": [
        "schedules.show(4, False)"
      ],
      "metadata": {
        "colab": {
          "base_uri": "https://localhost:8080/"
        },
        "id": "5vumbSeEiZc3",
        "outputId": "683a64fd-7cd9-49bc-b8f7-8f19ab720fc0"
      },
      "execution_count": 7,
      "outputs": [
        {
          "output_type": "stream",
          "name": "stdout",
          "text": [
            "+------------------------------------+----------+--------+-----+-----+-----+-----+-----+-----+-----+\n",
            "|uuid                                |start_time|end_time|mon  |tues |wed  |thurs|fri  |sat  |sun  |\n",
            "+------------------------------------+----------+--------+-----+-----+-----+-----+-----+-----+-----+\n",
            "|f2d66a4d-0c08-3b48-abf6-649fffd7ae90|-1        |-1      |false|false|false|false|false|false|false|\n",
            "|875542a2-f786-34dd-933b-84a8af1aaaba|530       |580     |true |false|true |false|false|false|false|\n",
            "|f41f1e4d-cb4f-3ded-b4b0-4a7c4da044e5|660       |710     |false|true |false|true |false|false|false|\n",
            "|46da55a4-17f7-31a1-9492-fddb5af9cf13|800       |850     |false|true |false|true |false|false|false|\n",
            "+------------------------------------+----------+--------+-----+-----+-----+-----+-----+-----+-----+\n",
            "only showing top 4 rows\n",
            "\n"
          ]
        }
      ]
    },
    {
      "cell_type": "code",
      "source": [
        "courses.show(4, False)"
      ],
      "metadata": {
        "colab": {
          "base_uri": "https://localhost:8080/"
        },
        "id": "NimG3j3JuGci",
        "outputId": "634e1ea4-cd16-404d-8ebc-e1683d3a41c0"
      },
      "execution_count": 8,
      "outputs": [
        {
          "output_type": "stream",
          "name": "stdout",
          "text": [
            "+------------------------------------+----------------------------------------------------------+------+\n",
            "|uuid                                |name                                                      |number|\n",
            "+------------------------------------+----------------------------------------------------------+------+\n",
            "|a3e3e1c3-543d-3bb5-ae65-5f2aec4ad1de|Cooperative Education Program                             |1     |\n",
            "|c070a84f-648f-351d-9499-5d0e30ad02cc|Cooperative Education/Co-op in Life Sciences Communication|1     |\n",
            "|e6b4b7ae-0e0b-3aa5-9d77-7fcd90c9cfa3|Cooperative Education Program                             |1     |\n",
            "|8f63bde1-ff7f-3fe7-9901-862908bf134c|Workshop in Dance Activity                                |1     |\n",
            "+------------------------------------+----------------------------------------------------------+------+\n",
            "only showing top 4 rows\n",
            "\n"
          ]
        }
      ]
    },
    {
      "cell_type": "code",
      "source": [
        "subject_memberships.show(4, False)"
      ],
      "metadata": {
        "colab": {
          "base_uri": "https://localhost:8080/"
        },
        "id": "7RYvXzdnuMB2",
        "outputId": "99320a27-500d-40c8-b6c2-151477965a80"
      },
      "execution_count": 9,
      "outputs": [
        {
          "output_type": "stream",
          "name": "stdout",
          "text": [
            "+------------+------------------------------------+\n",
            "|subject_code|course_offering_uuid                |\n",
            "+------------+------------------------------------+\n",
            "|220         |344b3ebe-da7e-314c-83ed-9425269695fd|\n",
            "|320         |344b3ebe-da7e-314c-83ed-9425269695fd|\n",
            "|346         |344b3ebe-da7e-314c-83ed-9425269695fd|\n",
            "|612         |344b3ebe-da7e-314c-83ed-9425269695fd|\n",
            "+------------+------------------------------------+\n",
            "only showing top 4 rows\n",
            "\n"
          ]
        }
      ]
    },
    {
      "cell_type": "code",
      "source": [
        "step1 = courses.join(schedules, courses.uuid == schedules.uuid, how='left')\n",
        "step1.limit(4).toPandas()"
      ],
      "metadata": {
        "colab": {
          "base_uri": "https://localhost:8080/",
          "height": 175
        },
        "id": "_Gb8Uetfu5Rv",
        "outputId": "c0aa3d93-aea3-464b-b657-df249b5aa209"
      },
      "execution_count": 10,
      "outputs": [
        {
          "output_type": "execute_result",
          "data": {
            "text/plain": [
              "                                   uuid  \\\n",
              "0  a3e3e1c3-543d-3bb5-ae65-5f2aec4ad1de   \n",
              "1  c070a84f-648f-351d-9499-5d0e30ad02cc   \n",
              "2  e6b4b7ae-0e0b-3aa5-9d77-7fcd90c9cfa3   \n",
              "3  8f63bde1-ff7f-3fe7-9901-862908bf134c   \n",
              "\n",
              "                                                name  number  uuid start_time  \\\n",
              "0                      Cooperative Education Program       1  None       None   \n",
              "1  Cooperative Education/Co-op in Life Sciences C...       1  None       None   \n",
              "2                      Cooperative Education Program       1  None       None   \n",
              "3                         Workshop in Dance Activity       1  None       None   \n",
              "\n",
              "  end_time   mon  tues   wed thurs   fri   sat   sun  \n",
              "0     None  None  None  None  None  None  None  None  \n",
              "1     None  None  None  None  None  None  None  None  \n",
              "2     None  None  None  None  None  None  None  None  \n",
              "3     None  None  None  None  None  None  None  None  "
            ],
            "text/html": [
              "\n",
              "  <div id=\"df-815ba83b-da56-4aac-96e2-f53a6b2ebeb1\">\n",
              "    <div class=\"colab-df-container\">\n",
              "      <div>\n",
              "<style scoped>\n",
              "    .dataframe tbody tr th:only-of-type {\n",
              "        vertical-align: middle;\n",
              "    }\n",
              "\n",
              "    .dataframe tbody tr th {\n",
              "        vertical-align: top;\n",
              "    }\n",
              "\n",
              "    .dataframe thead th {\n",
              "        text-align: right;\n",
              "    }\n",
              "</style>\n",
              "<table border=\"1\" class=\"dataframe\">\n",
              "  <thead>\n",
              "    <tr style=\"text-align: right;\">\n",
              "      <th></th>\n",
              "      <th>uuid</th>\n",
              "      <th>name</th>\n",
              "      <th>number</th>\n",
              "      <th>uuid</th>\n",
              "      <th>start_time</th>\n",
              "      <th>end_time</th>\n",
              "      <th>mon</th>\n",
              "      <th>tues</th>\n",
              "      <th>wed</th>\n",
              "      <th>thurs</th>\n",
              "      <th>fri</th>\n",
              "      <th>sat</th>\n",
              "      <th>sun</th>\n",
              "    </tr>\n",
              "  </thead>\n",
              "  <tbody>\n",
              "    <tr>\n",
              "      <th>0</th>\n",
              "      <td>a3e3e1c3-543d-3bb5-ae65-5f2aec4ad1de</td>\n",
              "      <td>Cooperative Education Program</td>\n",
              "      <td>1</td>\n",
              "      <td>None</td>\n",
              "      <td>None</td>\n",
              "      <td>None</td>\n",
              "      <td>None</td>\n",
              "      <td>None</td>\n",
              "      <td>None</td>\n",
              "      <td>None</td>\n",
              "      <td>None</td>\n",
              "      <td>None</td>\n",
              "      <td>None</td>\n",
              "    </tr>\n",
              "    <tr>\n",
              "      <th>1</th>\n",
              "      <td>c070a84f-648f-351d-9499-5d0e30ad02cc</td>\n",
              "      <td>Cooperative Education/Co-op in Life Sciences C...</td>\n",
              "      <td>1</td>\n",
              "      <td>None</td>\n",
              "      <td>None</td>\n",
              "      <td>None</td>\n",
              "      <td>None</td>\n",
              "      <td>None</td>\n",
              "      <td>None</td>\n",
              "      <td>None</td>\n",
              "      <td>None</td>\n",
              "      <td>None</td>\n",
              "      <td>None</td>\n",
              "    </tr>\n",
              "    <tr>\n",
              "      <th>2</th>\n",
              "      <td>e6b4b7ae-0e0b-3aa5-9d77-7fcd90c9cfa3</td>\n",
              "      <td>Cooperative Education Program</td>\n",
              "      <td>1</td>\n",
              "      <td>None</td>\n",
              "      <td>None</td>\n",
              "      <td>None</td>\n",
              "      <td>None</td>\n",
              "      <td>None</td>\n",
              "      <td>None</td>\n",
              "      <td>None</td>\n",
              "      <td>None</td>\n",
              "      <td>None</td>\n",
              "      <td>None</td>\n",
              "    </tr>\n",
              "    <tr>\n",
              "      <th>3</th>\n",
              "      <td>8f63bde1-ff7f-3fe7-9901-862908bf134c</td>\n",
              "      <td>Workshop in Dance Activity</td>\n",
              "      <td>1</td>\n",
              "      <td>None</td>\n",
              "      <td>None</td>\n",
              "      <td>None</td>\n",
              "      <td>None</td>\n",
              "      <td>None</td>\n",
              "      <td>None</td>\n",
              "      <td>None</td>\n",
              "      <td>None</td>\n",
              "      <td>None</td>\n",
              "      <td>None</td>\n",
              "    </tr>\n",
              "  </tbody>\n",
              "</table>\n",
              "</div>\n",
              "      <button class=\"colab-df-convert\" onclick=\"convertToInteractive('df-815ba83b-da56-4aac-96e2-f53a6b2ebeb1')\"\n",
              "              title=\"Convert this dataframe to an interactive table.\"\n",
              "              style=\"display:none;\">\n",
              "        \n",
              "  <svg xmlns=\"http://www.w3.org/2000/svg\" height=\"24px\"viewBox=\"0 0 24 24\"\n",
              "       width=\"24px\">\n",
              "    <path d=\"M0 0h24v24H0V0z\" fill=\"none\"/>\n",
              "    <path d=\"M18.56 5.44l.94 2.06.94-2.06 2.06-.94-2.06-.94-.94-2.06-.94 2.06-2.06.94zm-11 1L8.5 8.5l.94-2.06 2.06-.94-2.06-.94L8.5 2.5l-.94 2.06-2.06.94zm10 10l.94 2.06.94-2.06 2.06-.94-2.06-.94-.94-2.06-.94 2.06-2.06.94z\"/><path d=\"M17.41 7.96l-1.37-1.37c-.4-.4-.92-.59-1.43-.59-.52 0-1.04.2-1.43.59L10.3 9.45l-7.72 7.72c-.78.78-.78 2.05 0 2.83L4 21.41c.39.39.9.59 1.41.59.51 0 1.02-.2 1.41-.59l7.78-7.78 2.81-2.81c.8-.78.8-2.07 0-2.86zM5.41 20L4 18.59l7.72-7.72 1.47 1.35L5.41 20z\"/>\n",
              "  </svg>\n",
              "      </button>\n",
              "      \n",
              "  <style>\n",
              "    .colab-df-container {\n",
              "      display:flex;\n",
              "      flex-wrap:wrap;\n",
              "      gap: 12px;\n",
              "    }\n",
              "\n",
              "    .colab-df-convert {\n",
              "      background-color: #E8F0FE;\n",
              "      border: none;\n",
              "      border-radius: 50%;\n",
              "      cursor: pointer;\n",
              "      display: none;\n",
              "      fill: #1967D2;\n",
              "      height: 32px;\n",
              "      padding: 0 0 0 0;\n",
              "      width: 32px;\n",
              "    }\n",
              "\n",
              "    .colab-df-convert:hover {\n",
              "      background-color: #E2EBFA;\n",
              "      box-shadow: 0px 1px 2px rgba(60, 64, 67, 0.3), 0px 1px 3px 1px rgba(60, 64, 67, 0.15);\n",
              "      fill: #174EA6;\n",
              "    }\n",
              "\n",
              "    [theme=dark] .colab-df-convert {\n",
              "      background-color: #3B4455;\n",
              "      fill: #D2E3FC;\n",
              "    }\n",
              "\n",
              "    [theme=dark] .colab-df-convert:hover {\n",
              "      background-color: #434B5C;\n",
              "      box-shadow: 0px 1px 3px 1px rgba(0, 0, 0, 0.15);\n",
              "      filter: drop-shadow(0px 1px 2px rgba(0, 0, 0, 0.3));\n",
              "      fill: #FFFFFF;\n",
              "    }\n",
              "  </style>\n",
              "\n",
              "      <script>\n",
              "        const buttonEl =\n",
              "          document.querySelector('#df-815ba83b-da56-4aac-96e2-f53a6b2ebeb1 button.colab-df-convert');\n",
              "        buttonEl.style.display =\n",
              "          google.colab.kernel.accessAllowed ? 'block' : 'none';\n",
              "\n",
              "        async function convertToInteractive(key) {\n",
              "          const element = document.querySelector('#df-815ba83b-da56-4aac-96e2-f53a6b2ebeb1');\n",
              "          const dataTable =\n",
              "            await google.colab.kernel.invokeFunction('convertToInteractive',\n",
              "                                                     [key], {});\n",
              "          if (!dataTable) return;\n",
              "\n",
              "          const docLinkHtml = 'Like what you see? Visit the ' +\n",
              "            '<a target=\"_blank\" href=https://colab.research.google.com/notebooks/data_table.ipynb>data table notebook</a>'\n",
              "            + ' to learn more about interactive tables.';\n",
              "          element.innerHTML = '';\n",
              "          dataTable['output_type'] = 'display_data';\n",
              "          await google.colab.output.renderOutput(dataTable, element);\n",
              "          const docLink = document.createElement('div');\n",
              "          docLink.innerHTML = docLinkHtml;\n",
              "          element.appendChild(docLink);\n",
              "        }\n",
              "      </script>\n",
              "    </div>\n",
              "  </div>\n",
              "  "
            ]
          },
          "metadata": {},
          "execution_count": 10
        }
      ]
    },
    {
      "cell_type": "code",
      "source": [
        "valuesP = [('koala',1,'yes'),('caterpillar',2,'yes'),('deer',3,'yes'),('human',4,'yes')]\n",
        "eats_plants = spark.createDataFrame(valuesP,['name','id','eats_plants'])\n",
        "\n",
        "valuesM = [('shark',5,'yes'),('lion',6,'yes'),('tiger',7,'yes'),('human',4,'yes')]\n",
        "eats_meat = spark.createDataFrame(valuesM,['name','id','eats_meat'])\n",
        "\n",
        "eats_plants.show()\n",
        "\n",
        "eats_meat.show()"
      ],
      "metadata": {
        "colab": {
          "base_uri": "https://localhost:8080/"
        },
        "id": "kSjhmUCJu5X8",
        "outputId": "9ff1f813-e9fc-485e-cbdd-065d559cd60d"
      },
      "execution_count": 11,
      "outputs": [
        {
          "output_type": "stream",
          "name": "stdout",
          "text": [
            "+-----------+---+-----------+\n",
            "|       name| id|eats_plants|\n",
            "+-----------+---+-----------+\n",
            "|      koala|  1|        yes|\n",
            "|caterpillar|  2|        yes|\n",
            "|       deer|  3|        yes|\n",
            "|      human|  4|        yes|\n",
            "+-----------+---+-----------+\n",
            "\n",
            "+-----+---+---------+\n",
            "| name| id|eats_meat|\n",
            "+-----+---+---------+\n",
            "|shark|  5|      yes|\n",
            "| lion|  6|      yes|\n",
            "|tiger|  7|      yes|\n",
            "|human|  4|      yes|\n",
            "+-----+---+---------+\n",
            "\n"
          ]
        }
      ]
    },
    {
      "cell_type": "markdown",
      "source": [
        "# **UNION**"
      ],
      "metadata": {
        "id": "iZFK2sGO5Kp2"
      }
    },
    {
      "cell_type": "code",
      "source": [
        "df_concat = eats_plants.union(eats_meat)"
      ],
      "metadata": {
        "id": "o65xHsGuu5a1"
      },
      "execution_count": 12,
      "outputs": []
    },
    {
      "cell_type": "code",
      "source": [
        "df_concat.show()"
      ],
      "metadata": {
        "colab": {
          "base_uri": "https://localhost:8080/"
        },
        "id": "k2Vg4tjR3zds",
        "outputId": "2120683c-a869-482f-ef20-eab818b6c725"
      },
      "execution_count": 13,
      "outputs": [
        {
          "output_type": "stream",
          "name": "stdout",
          "text": [
            "+-----------+---+-----------+\n",
            "|       name| id|eats_plants|\n",
            "+-----------+---+-----------+\n",
            "|      koala|  1|        yes|\n",
            "|caterpillar|  2|        yes|\n",
            "|       deer|  3|        yes|\n",
            "|      human|  4|        yes|\n",
            "|      shark|  5|        yes|\n",
            "|       lion|  6|        yes|\n",
            "|      tiger|  7|        yes|\n",
            "|      human|  4|        yes|\n",
            "+-----------+---+-----------+\n",
            "\n"
          ]
        }
      ]
    },
    {
      "cell_type": "markdown",
      "source": [
        "# **INNER JOIN**"
      ],
      "metadata": {
        "id": "KAYM4UhH5ZIC"
      }
    },
    {
      "cell_type": "code",
      "source": [
        "inner_join = eats_plants.join(eats_meat, [\"name\",\"id\"],\"inner\")\n",
        "inner_join.show()"
      ],
      "metadata": {
        "colab": {
          "base_uri": "https://localhost:8080/"
        },
        "id": "4KcaJ_FM311Z",
        "outputId": "8f103046-838e-4be8-8712-91a3af88e124"
      },
      "execution_count": 14,
      "outputs": [
        {
          "output_type": "stream",
          "name": "stdout",
          "text": [
            "+-----+---+-----------+---------+\n",
            "| name| id|eats_plants|eats_meat|\n",
            "+-----+---+-----------+---------+\n",
            "|human|  4|        yes|      yes|\n",
            "+-----+---+-----------+---------+\n",
            "\n"
          ]
        }
      ]
    },
    {
      "cell_type": "markdown",
      "source": [
        "# **LEFT JOIN**"
      ],
      "metadata": {
        "id": "tq4u1zMp5NdO"
      }
    },
    {
      "cell_type": "code",
      "source": [
        "left_join = eats_plants.join(eats_meat, [\"name\",\"id\"],\"left\")\n",
        "left_join.show()"
      ],
      "metadata": {
        "colab": {
          "base_uri": "https://localhost:8080/"
        },
        "id": "nz4cC6Zv4KGc",
        "outputId": "4409ab66-a37a-4bf0-e3ba-139993239800"
      },
      "execution_count": 15,
      "outputs": [
        {
          "output_type": "stream",
          "name": "stdout",
          "text": [
            "+-----------+---+-----------+---------+\n",
            "|       name| id|eats_plants|eats_meat|\n",
            "+-----------+---+-----------+---------+\n",
            "|       deer|  3|        yes|     null|\n",
            "|      human|  4|        yes|      yes|\n",
            "|      koala|  1|        yes|     null|\n",
            "|caterpillar|  2|        yes|     null|\n",
            "+-----------+---+-----------+---------+\n",
            "\n"
          ]
        }
      ]
    },
    {
      "cell_type": "markdown",
      "source": [
        "# **Conditional LEFT JOIN**"
      ],
      "metadata": {
        "id": "Slo6KCsf5Qkk"
      }
    },
    {
      "cell_type": "code",
      "source": [
        "conditional_join = eats_plants.join(eats_meat, [\"name\",\"id\"], how='left').filter(eats_meat.eats_meat=='yes')\n",
        "conditional_join.show()"
      ],
      "metadata": {
        "colab": {
          "base_uri": "https://localhost:8080/"
        },
        "id": "3uUntKyW4TEv",
        "outputId": "e9d2f8ed-e892-4c4a-e137-4c16bd0642f8"
      },
      "execution_count": 16,
      "outputs": [
        {
          "output_type": "stream",
          "name": "stdout",
          "text": [
            "+-----+---+-----------+---------+\n",
            "| name| id|eats_plants|eats_meat|\n",
            "+-----+---+-----------+---------+\n",
            "|human|  4|        yes|      yes|\n",
            "+-----+---+-----------+---------+\n",
            "\n"
          ]
        }
      ]
    },
    {
      "cell_type": "markdown",
      "source": [
        "# **Full OUTER JOIN**"
      ],
      "metadata": {
        "id": "_dq-75Qv5cxH"
      }
    },
    {
      "cell_type": "code",
      "source": [
        "full_outer_join = eats_plants.join(eats_meat, [\"name\",\"id\"],how='full') \n",
        "full_outer_join.show()"
      ],
      "metadata": {
        "colab": {
          "base_uri": "https://localhost:8080/"
        },
        "id": "SeMPBXeQ4ZRO",
        "outputId": "98097fe9-05ca-4e75-e943-1920968b10c0"
      },
      "execution_count": 17,
      "outputs": [
        {
          "output_type": "stream",
          "name": "stdout",
          "text": [
            "+-----------+---+-----------+---------+\n",
            "|       name| id|eats_plants|eats_meat|\n",
            "+-----------+---+-----------+---------+\n",
            "|       deer|  3|        yes|     null|\n",
            "|      shark|  5|       null|      yes|\n",
            "|      human|  4|        yes|      yes|\n",
            "|      tiger|  7|       null|      yes|\n",
            "|       lion|  6|       null|      yes|\n",
            "|      koala|  1|        yes|     null|\n",
            "|caterpillar|  2|        yes|     null|\n",
            "+-----------+---+-----------+---------+\n",
            "\n"
          ]
        }
      ]
    },
    {
      "cell_type": "code",
      "source": [],
      "metadata": {
        "id": "CMkCDbxHT-3d"
      },
      "execution_count": 17,
      "outputs": []
    }
  ]
}