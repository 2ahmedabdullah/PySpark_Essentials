{
  "nbformat": 4,
  "nbformat_minor": 0,
  "metadata": {
    "colab": {
      "provenance": []
    },
    "kernelspec": {
      "name": "python3",
      "display_name": "Python 3"
    },
    "language_info": {
      "name": "python"
    }
  },
  "cells": [
    {
      "cell_type": "code",
      "execution_count": 1,
      "metadata": {
        "colab": {
          "base_uri": "https://localhost:8080/"
        },
        "id": "N89XAK08cl3I",
        "outputId": "c614aaad-fa16-47d6-d2c7-a5fdebbd3421"
      },
      "outputs": [
        {
          "output_type": "stream",
          "name": "stdout",
          "text": [
            "Get:1 https://cloud.r-project.org/bin/linux/ubuntu bionic-cran40/ InRelease [3,626 B]\n",
            "Get:2 http://security.ubuntu.com/ubuntu bionic-security InRelease [88.7 kB]\n",
            "Ign:3 https://developer.download.nvidia.com/compute/machine-learning/repos/ubuntu1804/x86_64  InRelease\n",
            "Hit:4 https://developer.download.nvidia.com/compute/cuda/repos/ubuntu1804/x86_64  InRelease\n",
            "Hit:5 http://ppa.launchpad.net/c2d4u.team/c2d4u4.0+/ubuntu bionic InRelease\n",
            "Hit:6 https://developer.download.nvidia.com/compute/machine-learning/repos/ubuntu1804/x86_64  Release\n",
            "Hit:7 http://archive.ubuntu.com/ubuntu bionic InRelease\n",
            "Get:8 http://archive.ubuntu.com/ubuntu bionic-updates InRelease [88.7 kB]\n",
            "Get:10 http://archive.ubuntu.com/ubuntu bionic-backports InRelease [83.3 kB]\n",
            "Hit:11 http://ppa.launchpad.net/cran/libgit2/ubuntu bionic InRelease\n",
            "Hit:12 http://ppa.launchpad.net/deadsnakes/ppa/ubuntu bionic InRelease\n",
            "Hit:13 http://ppa.launchpad.net/graphics-drivers/ppa/ubuntu bionic InRelease\n",
            "Fetched 264 kB in 6s (47.3 kB/s)\n",
            "Reading package lists... Done\n"
          ]
        }
      ],
      "source": [
        "!apt-get update\n",
        "!apt-get install openjdk-8-jdk-headless -qq > /dev/null\n",
        "!wget -q http://archive.apache.org/dist/spark/spark-2.3.1/spark-2.3.1-bin-hadoop2.7.tgz\n",
        "!tar xf spark-2.3.1-bin-hadoop2.7.tgz\n",
        "!pip install -q findspark"
      ]
    },
    {
      "cell_type": "code",
      "source": [
        "import os\n",
        "os.environ[\"JAVA_HOME\"] = \"/usr/lib/jvm/java-8-openjdk-amd64\"\n",
        "os.environ[\"SPARK_HOME\"] = \"/content/spark-2.3.1-bin-hadoop2.7\"\n",
        "\n",
        "!ls\n",
        "\n",
        "import findspark\n",
        "findspark.init()\n",
        "\n",
        "import pyspark\n",
        "from pyspark.sql import SparkSession\n",
        "spark = SparkSession.builder.appName(\"ReadwriteVal\").getOrCreate() \n",
        "spark"
      ],
      "metadata": {
        "colab": {
          "base_uri": "https://localhost:8080/",
          "height": 258
        },
        "id": "IDWeNub5dQzM",
        "outputId": "c5f75f2b-9816-4771-d7d4-b63c2f0b3ba9"
      },
      "execution_count": 2,
      "outputs": [
        {
          "output_type": "stream",
          "name": "stdout",
          "text": [
            "nyc_air_bnb.csv  spark-2.3.1-bin-hadoop2.7\tspark-2.3.1-bin-hadoop2.7.tgz.1\n",
            "sample_data\t spark-2.3.1-bin-hadoop2.7.tgz\tspark-warehouse\n"
          ]
        },
        {
          "output_type": "execute_result",
          "data": {
            "text/plain": [
              "<pyspark.sql.session.SparkSession at 0x7f9b7571c9d0>"
            ],
            "text/html": [
              "\n",
              "            <div>\n",
              "                <p><b>SparkSession - in-memory</b></p>\n",
              "                \n",
              "        <div>\n",
              "            <p><b>SparkContext</b></p>\n",
              "\n",
              "            <p><a href=\"http://814a185ac350:4040\">Spark UI</a></p>\n",
              "\n",
              "            <dl>\n",
              "              <dt>Version</dt>\n",
              "                <dd><code>v2.3.1</code></dd>\n",
              "              <dt>Master</dt>\n",
              "                <dd><code>local[*]</code></dd>\n",
              "              <dt>AppName</dt>\n",
              "                <dd><code>ReadwriteVal</code></dd>\n",
              "            </dl>\n",
              "        </div>\n",
              "        \n",
              "            </div>\n",
              "        "
            ]
          },
          "metadata": {},
          "execution_count": 2
        }
      ]
    },
    {
      "cell_type": "code",
      "source": [
        "from pyspark.sql.functions import to_date, col, max as max_, expr"
      ],
      "metadata": {
        "id": "DE3W-mPdnRaH"
      },
      "execution_count": 3,
      "outputs": []
    },
    {
      "cell_type": "code",
      "source": [
        "airbnb = spark.read.csv('nyc_air_bnb.csv',inferSchema=True,header=True)\n",
        "airbnb.show(5)"
      ],
      "metadata": {
        "colab": {
          "base_uri": "https://localhost:8080/"
        },
        "id": "ylxyCrM1dYUJ",
        "outputId": "281bcd93-8288-4561-e3d9-a05ffc68a0aa"
      },
      "execution_count": 4,
      "outputs": [
        {
          "output_type": "stream",
          "name": "stdout",
          "text": [
            "+----+--------------------+-------+-----------+-------------------+-------------+--------+---------+---------------+-----+--------------+-----------------+-----------+-----------------+------------------------------+----------------+\n",
            "|  id|                name|host_id|  host_name|neighbourhood_group|neighbourhood|latitude|longitude|      room_type|price|minimum_nights|number_of_reviews|last_review|reviews_per_month|calculated_host_listings_count|availability_365|\n",
            "+----+--------------------+-------+-----------+-------------------+-------------+--------+---------+---------------+-----+--------------+-----------------+-----------+-----------------+------------------------------+----------------+\n",
            "|2539|Clean & quiet apt...|   2787|       John|           Brooklyn|   Kensington|40.64749|-73.97237|   Private room|  149|             1|                9| 2018-10-19|             0.21|                             6|             365|\n",
            "|2595|Skylit Midtown Ca...|   2845|   Jennifer|          Manhattan|      Midtown|40.75362|-73.98377|Entire home/apt|  225|             1|               45| 2019-05-21|             0.38|                             2|             355|\n",
            "|3647|THE VILLAGE OF HA...|   4632|  Elisabeth|          Manhattan|       Harlem|40.80902| -73.9419|   Private room|  150|             3|                0|       null|             null|                             1|             365|\n",
            "|3831|Cozy Entire Floor...|   4869|LisaRoxanne|           Brooklyn| Clinton Hill|40.68514|-73.95976|Entire home/apt|   89|             1|              270| 2019-07-05|             4.64|                             1|             194|\n",
            "|5022|Entire Apt: Spaci...|   7192|      Laura|          Manhattan|  East Harlem|40.79851|-73.94399|Entire home/apt|   80|            10|                9| 2018-11-19|             0.10|                             1|               0|\n",
            "+----+--------------------+-------+-----------+-------------------+-------------+--------+---------+---------------+-----+--------------+-----------------+-----------+-----------------+------------------------------+----------------+\n",
            "only showing top 5 rows\n",
            "\n"
          ]
        }
      ]
    },
    {
      "cell_type": "code",
      "source": [
        "airbnb = airbnb[['minimum_nights','last_review', 'neighbourhood_group']]\n",
        "airbnb = airbnb.selectExpr(\"minimum_nights as id\", \"last_review as date\", \"neighbourhood_group as class\")\n",
        "airbnb.show(5)"
      ],
      "metadata": {
        "colab": {
          "base_uri": "https://localhost:8080/"
        },
        "id": "0JibNNU1fLOY",
        "outputId": "dd17d76c-1dd6-4fb3-98ef-50f4dfd55106"
      },
      "execution_count": 5,
      "outputs": [
        {
          "output_type": "stream",
          "name": "stdout",
          "text": [
            "+---+----------+---------+\n",
            "| id|      date|    class|\n",
            "+---+----------+---------+\n",
            "|  1|2018-10-19| Brooklyn|\n",
            "|  1|2019-05-21|Manhattan|\n",
            "|  3|      null|Manhattan|\n",
            "|  1|2019-07-05| Brooklyn|\n",
            "| 10|2018-11-19|Manhattan|\n",
            "+---+----------+---------+\n",
            "only showing top 5 rows\n",
            "\n"
          ]
        }
      ]
    },
    {
      "cell_type": "code",
      "source": [
        "airbnb = airbnb.withColumn('date', to_date('date', 'yyyy-dd-mm'))\n",
        "airbnb.show(5)"
      ],
      "metadata": {
        "colab": {
          "base_uri": "https://localhost:8080/"
        },
        "id": "H0vkzU8zjwwe",
        "outputId": "d929bda8-9eae-4b13-fdd4-d1909e392592"
      },
      "execution_count": 6,
      "outputs": [
        {
          "output_type": "stream",
          "name": "stdout",
          "text": [
            "+---+----------+---------+\n",
            "| id|      date|    class|\n",
            "+---+----------+---------+\n",
            "|  1|2018-01-10| Brooklyn|\n",
            "|  1|2019-01-05|Manhattan|\n",
            "|  3|      null|Manhattan|\n",
            "|  1|2019-01-07| Brooklyn|\n",
            "| 10|2018-01-11|Manhattan|\n",
            "+---+----------+---------+\n",
            "only showing top 5 rows\n",
            "\n"
          ]
        }
      ]
    },
    {
      "cell_type": "code",
      "source": [
        "airbnb.printSchema()"
      ],
      "metadata": {
        "colab": {
          "base_uri": "https://localhost:8080/"
        },
        "id": "B-xQTmhslP4n",
        "outputId": "0fe665bc-e11b-461d-dc2d-1543fcea073c"
      },
      "execution_count": 7,
      "outputs": [
        {
          "output_type": "stream",
          "name": "stdout",
          "text": [
            "root\n",
            " |-- id: string (nullable = true)\n",
            " |-- date: date (nullable = true)\n",
            " |-- class: string (nullable = true)\n",
            "\n"
          ]
        }
      ]
    },
    {
      "cell_type": "code",
      "source": [
        "max_date = airbnb.withColumn(\"date\", col(\"date\").cast(\"timestamp\")).groupBy(\"id\").agg(max_(\"date\"))\n",
        "max_date.show(5)"
      ],
      "metadata": {
        "colab": {
          "base_uri": "https://localhost:8080/"
        },
        "id": "J0oTr8s5l7a3",
        "outputId": "e8d24bdf-97b6-4363-c9b3-7a06e9b698ec"
      },
      "execution_count": 8,
      "outputs": [
        {
          "output_type": "stream",
          "name": "stdout",
          "text": [
            "+---+-------------------+\n",
            "| id|          max(date)|\n",
            "+---+-------------------+\n",
            "|  7|2019-01-07 00:00:00|\n",
            "| 51|               null|\n",
            "| 15|2019-01-07 00:00:00|\n",
            "|200|2019-01-07 00:00:00|\n",
            "| 11|2019-01-07 00:00:00|\n",
            "+---+-------------------+\n",
            "only showing top 5 rows\n",
            "\n"
          ]
        }
      ]
    },
    {
      "cell_type": "code",
      "source": [
        "left_join = airbnb.join(max_date, [\"id\"],\"left\")\n",
        "left_join.show(5)"
      ],
      "metadata": {
        "colab": {
          "base_uri": "https://localhost:8080/"
        },
        "id": "KGZ1_KJpgs1C",
        "outputId": "258a2a6e-6e01-40f6-9072-45bfed41fe55"
      },
      "execution_count": 9,
      "outputs": [
        {
          "output_type": "stream",
          "name": "stdout",
          "text": [
            "+---+----------+---------+-------------------+\n",
            "| id|      date|    class|          max(date)|\n",
            "+---+----------+---------+-------------------+\n",
            "|  1|2018-01-10| Brooklyn|2019-01-07 00:00:00|\n",
            "|  1|2019-01-05|Manhattan|2019-01-07 00:00:00|\n",
            "|  3|      null|Manhattan|2019-01-07 00:00:00|\n",
            "|  1|2019-01-07| Brooklyn|2019-01-07 00:00:00|\n",
            "| 10|2018-01-11|Manhattan|2019-01-07 00:00:00|\n",
            "+---+----------+---------+-------------------+\n",
            "only showing top 5 rows\n",
            "\n"
          ]
        }
      ]
    },
    {
      "cell_type": "code",
      "source": [
        "# adding cols last 4 weeks, last 6 weeks, last 8 weeks ....\n",
        "import pyspark.sql.functions as F \n",
        "\n",
        "left_join = left_join.withColumn('last4weeks', F.date_sub(left_join['max(date)'], 30))\n",
        "left_join = left_join.withColumn('last6weeks', F.date_sub(left_join['max(date)'], 45))\n",
        "left_join = left_join.withColumn('last8weeks', F.date_sub(left_join['max(date)'], 60))"
      ],
      "metadata": {
        "id": "35wjXRk_ijHJ"
      },
      "execution_count": 10,
      "outputs": []
    },
    {
      "cell_type": "code",
      "source": [
        "left_join.show(5)"
      ],
      "metadata": {
        "colab": {
          "base_uri": "https://localhost:8080/"
        },
        "id": "KXmR8M-VoER8",
        "outputId": "d970891f-b6be-4031-96cc-3c96b4f9aba3"
      },
      "execution_count": 11,
      "outputs": [
        {
          "output_type": "stream",
          "name": "stdout",
          "text": [
            "+---+----------+---------+-------------------+----------+----------+----------+\n",
            "| id|      date|    class|          max(date)|last4weeks|last6weeks|last8weeks|\n",
            "+---+----------+---------+-------------------+----------+----------+----------+\n",
            "|  1|2018-01-10| Brooklyn|2019-01-07 00:00:00|2018-12-08|2018-11-23|2018-11-08|\n",
            "|  1|2019-01-05|Manhattan|2019-01-07 00:00:00|2018-12-08|2018-11-23|2018-11-08|\n",
            "|  3|      null|Manhattan|2019-01-07 00:00:00|2018-12-08|2018-11-23|2018-11-08|\n",
            "|  1|2019-01-07| Brooklyn|2019-01-07 00:00:00|2018-12-08|2018-11-23|2018-11-08|\n",
            "| 10|2018-01-11|Manhattan|2019-01-07 00:00:00|2018-12-08|2018-11-23|2018-11-08|\n",
            "+---+----------+---------+-------------------+----------+----------+----------+\n",
            "only showing top 5 rows\n",
            "\n"
          ]
        }
      ]
    },
    {
      "cell_type": "code",
      "source": [
        "#filter for last 4 weeks\n",
        "last4weeksfilter = left_join.filter(left_join.date > left_join.last4weeks)\n",
        "last4weeksfilter.show(5)"
      ],
      "metadata": {
        "colab": {
          "base_uri": "https://localhost:8080/"
        },
        "id": "EsZCg6VupByy",
        "outputId": "75459f93-9b17-47b4-a280-9d47a960d14b"
      },
      "execution_count": 12,
      "outputs": [
        {
          "output_type": "stream",
          "name": "stdout",
          "text": [
            "+---+----------+---------+-------------------+----------+----------+----------+\n",
            "| id|      date|    class|          max(date)|last4weeks|last6weeks|last8weeks|\n",
            "+---+----------+---------+-------------------+----------+----------+----------+\n",
            "|  1|2019-01-05|Manhattan|2019-01-07 00:00:00|2018-12-08|2018-11-23|2018-11-08|\n",
            "|  1|2019-01-07| Brooklyn|2019-01-07 00:00:00|2018-12-08|2018-11-23|2018-11-08|\n",
            "|  3|2019-01-06|Manhattan|2019-01-07 00:00:00|2018-12-08|2018-11-23|2018-11-08|\n",
            "|  2|2019-01-06|Manhattan|2019-01-07 00:00:00|2018-12-08|2018-11-23|2018-11-08|\n",
            "|  1|2019-01-06|Manhattan|2019-01-07 00:00:00|2018-12-08|2018-11-23|2018-11-08|\n",
            "+---+----------+---------+-------------------+----------+----------+----------+\n",
            "only showing top 5 rows\n",
            "\n"
          ]
        }
      ]
    },
    {
      "cell_type": "code",
      "source": [
        "last4weeks_activity = last4weeksfilter.groupBy(\"id\").pivot(\"class\").count()\n",
        "last4weeks_activity.na.fill(value=0).show(5)"
      ],
      "metadata": {
        "colab": {
          "base_uri": "https://localhost:8080/"
        },
        "id": "aUbKHSM9qU5L",
        "outputId": "94b51d54-a231-4719-e31b-6ae79c6a6efe"
      },
      "execution_count": 13,
      "outputs": [
        {
          "output_type": "stream",
          "name": "stdout",
          "text": [
            "+---+-----+--------+---------+------+-------------+\n",
            "| id|Bronx|Brooklyn|Manhattan|Queens|Staten Island|\n",
            "+---+-----+--------+---------+------+-------------+\n",
            "|  7|    9|     303|      335|    83|            2|\n",
            "| 15|    0|      42|       24|    15|            0|\n",
            "|200|    0|       2|        1|     0|            0|\n",
            "| 11|    0|       7|        5|     1|            0|\n",
            "| 29|    0|      17|       52|    12|            0|\n",
            "+---+-----+--------+---------+------+-------------+\n",
            "only showing top 5 rows\n",
            "\n"
          ]
        }
      ]
    },
    {
      "cell_type": "code",
      "source": [
        "last4weeksfilter.filter(last4weeksfilter.id == 11).show()"
      ],
      "metadata": {
        "colab": {
          "base_uri": "https://localhost:8080/"
        },
        "id": "BF26279gvvGt",
        "outputId": "d75b282f-e992-4b59-81a1-23a935976619"
      },
      "execution_count": 14,
      "outputs": [
        {
          "output_type": "stream",
          "name": "stdout",
          "text": [
            "+---+----------+---------+-------------------+----------+----------+----------+\n",
            "| id|      date|    class|          max(date)|last4weeks|last6weeks|last8weeks|\n",
            "+---+----------+---------+-------------------+----------+----------+----------+\n",
            "| 11|2019-01-06|Manhattan|2019-01-07 00:00:00|2018-12-08|2018-11-23|2018-11-08|\n",
            "| 11|2019-01-05| Brooklyn|2019-01-07 00:00:00|2018-12-08|2018-11-23|2018-11-08|\n",
            "| 11|2019-01-06|Manhattan|2019-01-07 00:00:00|2018-12-08|2018-11-23|2018-11-08|\n",
            "| 11|2019-01-05| Brooklyn|2019-01-07 00:00:00|2018-12-08|2018-11-23|2018-11-08|\n",
            "| 11|2019-01-04| Brooklyn|2019-01-07 00:00:00|2018-12-08|2018-11-23|2018-11-08|\n",
            "| 11|2019-01-04|   Queens|2019-01-07 00:00:00|2018-12-08|2018-11-23|2018-11-08|\n",
            "| 11|2019-01-03| Brooklyn|2019-01-07 00:00:00|2018-12-08|2018-11-23|2018-11-08|\n",
            "| 11|2019-01-07|Manhattan|2019-01-07 00:00:00|2018-12-08|2018-11-23|2018-11-08|\n",
            "| 11|2019-01-01| Brooklyn|2019-01-07 00:00:00|2018-12-08|2018-11-23|2018-11-08|\n",
            "| 11|2019-01-01|Manhattan|2019-01-07 00:00:00|2018-12-08|2018-11-23|2018-11-08|\n",
            "| 11|2019-01-06|Manhattan|2019-01-07 00:00:00|2018-12-08|2018-11-23|2018-11-08|\n",
            "| 11|2019-01-05| Brooklyn|2019-01-07 00:00:00|2018-12-08|2018-11-23|2018-11-08|\n",
            "| 11|2019-01-05| Brooklyn|2019-01-07 00:00:00|2018-12-08|2018-11-23|2018-11-08|\n",
            "+---+----------+---------+-------------------+----------+----------+----------+\n",
            "\n"
          ]
        }
      ]
    },
    {
      "cell_type": "code",
      "source": [
        "last4weeksfilter.filter(last4weeksfilter.id == 11).groupby('class').count().show()"
      ],
      "metadata": {
        "colab": {
          "base_uri": "https://localhost:8080/"
        },
        "id": "_zJVMk5OrHd9",
        "outputId": "5c841af0-15e7-4d1d-e99f-02f1dc0cfeba"
      },
      "execution_count": 15,
      "outputs": [
        {
          "output_type": "stream",
          "name": "stdout",
          "text": [
            "+---------+-----+\n",
            "|    class|count|\n",
            "+---------+-----+\n",
            "|   Queens|    1|\n",
            "| Brooklyn|    7|\n",
            "|Manhattan|    5|\n",
            "+---------+-----+\n",
            "\n"
          ]
        }
      ]
    },
    {
      "cell_type": "code",
      "source": [],
      "metadata": {
        "id": "uvBDEsuuvaDT"
      },
      "execution_count": 15,
      "outputs": []
    }
  ]
}